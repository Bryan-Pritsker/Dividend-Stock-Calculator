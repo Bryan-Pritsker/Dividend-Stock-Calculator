{
 "cells": [
  {
   "cell_type": "code",
   "execution_count": 177,
   "id": "a75e7665",
   "metadata": {},
   "outputs": [],
   "source": [
    "import pandas as pd\n",
    "import numpy as np\n",
    "import matplotlib.pyplot as plt\n",
    "import seaborn as sns\n",
    "import requests\n",
    "import yfinance as yf\n",
    "import datetime as dt\n",
    "from datetime import date\n",
    "from dateutil.relativedelta import relativedelta \n",
    "from yahoo_fin.stock_info import *\n",
    "from yahoofinancials import YahooFinancials"
   ]
  },
  {
   "cell_type": "markdown",
   "id": "0d109772",
   "metadata": {},
   "source": [
    "### When calculating the dividend, assume you put a contribution in first, then later in the year you earn a one time dividend payment"
   ]
  },
  {
   "cell_type": "code",
   "execution_count": 207,
   "id": "1cb055e3",
   "metadata": {},
   "outputs": [],
   "source": [
    "def calculate_dividends_input(symbol, contribution):\n",
    "    current_price = 28.64\n",
    "    div_yield = 0.0584      #as a decimal less than 1\n",
    "    div_growth_rate = 0.02    #as a decimal less than 1     (it is approximately the 5 year cagr)\n",
    "    share_price_cagr = 0.02     #as a decimal less than 1    (it is the 6 year share cagr)\n",
    "    principal = 3000\n",
    "    \n",
    "    \n",
    "    for i in range(20):\n",
    "        if i == 0:\n",
    "            num_shares = (principal + contribution) / current_price \n",
    "            \n",
    "            #set up an initial dividend amount the company will pay:\n",
    "            div_amt = div_yield * current_price\n",
    "            print(f\"Dividend Amount is: {div_amt}\")\n",
    "            \n",
    "            #Then you collect a dividend\n",
    "            your_dividend = num_shares * div_amt\n",
    "            num_shares = num_shares + (your_dividend / current_price)\n",
    "            total_value = num_shares * current_price\n",
    "            print(f\"Your total value for year 0 is: ${total_value}\")\n",
    "            print(f\"Current price for year {i} is: {current_price}\")\n",
    "        else:\n",
    "            current_price = current_price * (1 + share_price_cagr)\n",
    "            div_amt_for_yr = div_amt * pow((1 + div_growth_rate), i)\n",
    "            gained_shares = contribution / current_price\n",
    "            # Then you collect a dividend \n",
    "            your_dividend = (num_shares + gained_shares) * div_amt_for_yr\n",
    "            num_shares = (num_shares + gained_shares) + (your_dividend / current_price)\n",
    "            total_value = num_shares * current_price\n",
    "            print(f\"Your total value for year {i} is: ${total_value}\")\n",
    "            print(f\"Current price for year {i} is: {current_price}\")\n",
    "            print(f\"Current number of shares for year {i} is: {num_shares}\") \n",
    "\n",
    "    \n",
    "    print(f\"Your total contribution was: ${20 * contribution}\")\n",
    "    print(f\"Your total value for {symbol} is: ${total_value}\")\n",
    "    print(f\"Your dividend is: {your_dividend}\")\n",
    "     \n"
   ]
  },
  {
   "cell_type": "code",
   "execution_count": 208,
   "id": "d83fe7ef",
   "metadata": {},
   "outputs": [
    {
     "name": "stdout",
     "output_type": "stream",
     "text": [
      "Dividend Amount is: 1.672576\n",
      "Your total value for year 0 is: $6350.4\n",
      "Current price for year 0 is: 28.64\n",
      "Your total value for year 1 is: $10030.8886272\n",
      "Current price for year 1 is: 29.2128\n",
      "Current number of shares for year 1 is: 343.37306342425234\n",
      "Your total value for year 2 is: $14004.22637348905\n",
      "Current price for year 2 is: 29.797056\n",
      "Current number of shares for year 2 is: 469.9869132537472\n",
      "Your total value for year 3 is: $18293.714657574823\n",
      "Current price for year 3 is: 30.39299712\n",
      "Current number of shares for year 3 is: 601.9055832284705\n",
      "Your total value for year 4 is: $22924.508945448735\n",
      "Current price for year 4 is: 31.0008570624\n",
      "Current number of shares for year 4 is: 739.4798440348018\n",
      "Your total value for year 5 is: $27923.766273220204\n",
      "Current price for year 5 is: 31.620874203648\n",
      "Current number of shares for year 5 is: 883.0801480497565\n",
      "Your total value for year 6 is: $33320.80450804779\n",
      "Current price for year 6 is: 32.25329168772096\n",
      "Current number of shares for year 6 is: 1033.097794503041\n",
      "Your total value for year 7 is: $39147.27428114414\n",
      "Current price for year 7 is: 32.89835752147538\n",
      "Current number of shares for year 7 is: 1189.9461623757234\n",
      "Your total value for year 8 is: $45437.344601146215\n",
      "Current price for year 8 is: 33.55632467190489\n",
      "Current number of shares for year 8 is: 1354.0620149973915\n",
      "Your total value for year 9 is: $52227.90323637021\n",
      "Current price for year 9 is: 34.227451165342984\n",
      "Current number of shares for year 9 is: 1525.9068805349314\n",
      "Your total value for year 10 is: $59558.77304108172\n",
      "Current price for year 10 is: 34.91200018864984\n",
      "Current number of shares for year 10 is: 1705.9685128108108\n",
      "Your total value for year 11 is: $67472.9454944145\n",
      "Current price for year 11 is: 35.610240192422836\n",
      "Current number of shares for year 11 is: 1894.7624371478244\n",
      "Your total value for year 12 is: $76016.83282151408\n",
      "Current price for year 12 is: 36.322444996271294\n",
      "Current number of shares for year 12 is: 2092.833586211436\n",
      "Your total value for year 13 is: $85240.5401754563\n",
      "Current price for year 13 is: 37.048893896196724\n",
      "Current number of shares for year 13 is: 2300.7580311110646\n",
      "Your total value for year 14 is: $95198.15947613702\n",
      "Current price for year 14 is: 37.789871774120655\n",
      "Current number of shares for year 14 is: 2519.1448133288145\n",
      "Your total value for year 15 is: $105948.08662933427\n",
      "Current price for year 15 is: 38.54566920960307\n",
      "Current number of shares for year 15 is: 2748.63788336924\n",
      "Your total value for year 16 is: $117553.36398625714\n",
      "Current price for year 16 is: 39.31658259379513\n",
      "Current number of shares for year 16 is: 2989.9181523678303\n",
      "Your total value for year 17 is: $130082.05005191568\n",
      "Current price for year 17 is: 40.10291424567104\n",
      "Current number of shares for year 17 is: 3243.7056632600597\n",
      "Your total value for year 18 is: $143607.6186104465\n",
      "Current price for year 18 is: 40.90497253058446\n",
      "Current number of shares for year 18 is: 3510.7618884983176\n",
      "Your total value for year 19 is: $158209.38960804252\n",
      "Current price for year 19 is: 41.72307198119615\n",
      "Current number of shares for year 19 is: 3791.8921617119827\n",
      "Your total contribution was: $60000\n",
      "Your total value for My Portfolio is: $158209.38960804252\n",
      "Your dividend is: 8729.61862538708\n"
     ]
    }
   ],
   "source": [
    "calculate_dividends_input(\"My Portfolio\", 3000)"
   ]
  },
  {
   "cell_type": "markdown",
   "id": "f8c50347",
   "metadata": {},
   "source": [
    "## Use YFinance to gather data about a particular stock"
   ]
  },
  {
   "cell_type": "code",
   "execution_count": 81,
   "id": "9336d15b",
   "metadata": {},
   "outputs": [
    {
     "data": {
      "text/plain": [
       "'2017-12-28'"
      ]
     },
     "execution_count": 81,
     "metadata": {},
     "output_type": "execute_result"
    }
   ],
   "source": [
    "today = date.today()\n",
    "\n",
    "start_date = str( today - relativedelta(years = 6) )\n",
    "start_date"
   ]
  },
  {
   "cell_type": "code",
   "execution_count": 82,
   "id": "7281a0d5",
   "metadata": {},
   "outputs": [
    {
     "data": {
      "text/plain": [
       "'2023-12-28'"
      ]
     },
     "execution_count": 82,
     "metadata": {},
     "output_type": "execute_result"
    }
   ],
   "source": [
    "end_date = str(today)\n",
    "end_date"
   ]
  },
  {
   "cell_type": "code",
   "execution_count": 127,
   "id": "fe963009",
   "metadata": {},
   "outputs": [
    {
     "name": "stdout",
     "output_type": "stream",
     "text": [
      "[*********************100%***********************]  1 of 1 completed\n"
     ]
    },
    {
     "data": {
      "text/html": [
       "<div>\n",
       "<style scoped>\n",
       "    .dataframe tbody tr th:only-of-type {\n",
       "        vertical-align: middle;\n",
       "    }\n",
       "\n",
       "    .dataframe tbody tr th {\n",
       "        vertical-align: top;\n",
       "    }\n",
       "\n",
       "    .dataframe thead th {\n",
       "        text-align: right;\n",
       "    }\n",
       "</style>\n",
       "<table border=\"1\" class=\"dataframe\">\n",
       "  <thead>\n",
       "    <tr style=\"text-align: right;\">\n",
       "      <th></th>\n",
       "      <th>Open</th>\n",
       "      <th>High</th>\n",
       "      <th>Low</th>\n",
       "      <th>Close</th>\n",
       "      <th>Adj Close</th>\n",
       "      <th>Volume</th>\n",
       "    </tr>\n",
       "    <tr>\n",
       "      <th>Date</th>\n",
       "      <th></th>\n",
       "      <th></th>\n",
       "      <th></th>\n",
       "      <th></th>\n",
       "      <th></th>\n",
       "      <th></th>\n",
       "    </tr>\n",
       "  </thead>\n",
       "  <tbody>\n",
       "    <tr>\n",
       "      <th>2017-12-28</th>\n",
       "      <td>42.750000</td>\n",
       "      <td>42.962502</td>\n",
       "      <td>42.619999</td>\n",
       "      <td>42.770000</td>\n",
       "      <td>40.443920</td>\n",
       "      <td>65920800</td>\n",
       "    </tr>\n",
       "    <tr>\n",
       "      <th>2017-12-29</th>\n",
       "      <td>42.630001</td>\n",
       "      <td>42.647499</td>\n",
       "      <td>42.305000</td>\n",
       "      <td>42.307499</td>\n",
       "      <td>40.006557</td>\n",
       "      <td>103999600</td>\n",
       "    </tr>\n",
       "    <tr>\n",
       "      <th>2018-01-02</th>\n",
       "      <td>42.540001</td>\n",
       "      <td>43.075001</td>\n",
       "      <td>42.314999</td>\n",
       "      <td>43.064999</td>\n",
       "      <td>40.722881</td>\n",
       "      <td>102223600</td>\n",
       "    </tr>\n",
       "    <tr>\n",
       "      <th>2018-01-03</th>\n",
       "      <td>43.132500</td>\n",
       "      <td>43.637501</td>\n",
       "      <td>42.990002</td>\n",
       "      <td>43.057499</td>\n",
       "      <td>40.715782</td>\n",
       "      <td>118071600</td>\n",
       "    </tr>\n",
       "    <tr>\n",
       "      <th>2018-01-04</th>\n",
       "      <td>43.134998</td>\n",
       "      <td>43.367500</td>\n",
       "      <td>43.020000</td>\n",
       "      <td>43.257500</td>\n",
       "      <td>40.904915</td>\n",
       "      <td>89738400</td>\n",
       "    </tr>\n",
       "    <tr>\n",
       "      <th>...</th>\n",
       "      <td>...</td>\n",
       "      <td>...</td>\n",
       "      <td>...</td>\n",
       "      <td>...</td>\n",
       "      <td>...</td>\n",
       "      <td>...</td>\n",
       "    </tr>\n",
       "    <tr>\n",
       "      <th>2023-12-20</th>\n",
       "      <td>196.899994</td>\n",
       "      <td>197.679993</td>\n",
       "      <td>194.830002</td>\n",
       "      <td>194.830002</td>\n",
       "      <td>194.830002</td>\n",
       "      <td>52242800</td>\n",
       "    </tr>\n",
       "    <tr>\n",
       "      <th>2023-12-21</th>\n",
       "      <td>196.100006</td>\n",
       "      <td>197.080002</td>\n",
       "      <td>193.500000</td>\n",
       "      <td>194.679993</td>\n",
       "      <td>194.679993</td>\n",
       "      <td>46482500</td>\n",
       "    </tr>\n",
       "    <tr>\n",
       "      <th>2023-12-22</th>\n",
       "      <td>195.179993</td>\n",
       "      <td>195.410004</td>\n",
       "      <td>192.970001</td>\n",
       "      <td>193.600006</td>\n",
       "      <td>193.600006</td>\n",
       "      <td>37122800</td>\n",
       "    </tr>\n",
       "    <tr>\n",
       "      <th>2023-12-26</th>\n",
       "      <td>193.610001</td>\n",
       "      <td>193.889999</td>\n",
       "      <td>192.830002</td>\n",
       "      <td>193.050003</td>\n",
       "      <td>193.050003</td>\n",
       "      <td>28919300</td>\n",
       "    </tr>\n",
       "    <tr>\n",
       "      <th>2023-12-27</th>\n",
       "      <td>192.490005</td>\n",
       "      <td>193.500000</td>\n",
       "      <td>191.089996</td>\n",
       "      <td>193.149994</td>\n",
       "      <td>193.149994</td>\n",
       "      <td>48053800</td>\n",
       "    </tr>\n",
       "  </tbody>\n",
       "</table>\n",
       "<p>1509 rows × 6 columns</p>\n",
       "</div>"
      ],
      "text/plain": [
       "                  Open        High         Low       Close   Adj Close  \\\n",
       "Date                                                                     \n",
       "2017-12-28   42.750000   42.962502   42.619999   42.770000   40.443920   \n",
       "2017-12-29   42.630001   42.647499   42.305000   42.307499   40.006557   \n",
       "2018-01-02   42.540001   43.075001   42.314999   43.064999   40.722881   \n",
       "2018-01-03   43.132500   43.637501   42.990002   43.057499   40.715782   \n",
       "2018-01-04   43.134998   43.367500   43.020000   43.257500   40.904915   \n",
       "...                ...         ...         ...         ...         ...   \n",
       "2023-12-20  196.899994  197.679993  194.830002  194.830002  194.830002   \n",
       "2023-12-21  196.100006  197.080002  193.500000  194.679993  194.679993   \n",
       "2023-12-22  195.179993  195.410004  192.970001  193.600006  193.600006   \n",
       "2023-12-26  193.610001  193.889999  192.830002  193.050003  193.050003   \n",
       "2023-12-27  192.490005  193.500000  191.089996  193.149994  193.149994   \n",
       "\n",
       "               Volume  \n",
       "Date                   \n",
       "2017-12-28   65920800  \n",
       "2017-12-29  103999600  \n",
       "2018-01-02  102223600  \n",
       "2018-01-03  118071600  \n",
       "2018-01-04   89738400  \n",
       "...               ...  \n",
       "2023-12-20   52242800  \n",
       "2023-12-21   46482500  \n",
       "2023-12-22   37122800  \n",
       "2023-12-26   28919300  \n",
       "2023-12-27   48053800  \n",
       "\n",
       "[1509 rows x 6 columns]"
      ]
     },
     "execution_count": 127,
     "metadata": {},
     "output_type": "execute_result"
    }
   ],
   "source": [
    "ticker = \"AAPL\"\n",
    "df = yf.download(ticker, start_date, end_date)\n",
    "df"
   ]
  },
  {
   "cell_type": "code",
   "execution_count": 129,
   "id": "7a4fb727",
   "metadata": {},
   "outputs": [
    {
     "data": {
      "text/plain": [
       "193.14999389648438"
      ]
     },
     "execution_count": 129,
     "metadata": {},
     "output_type": "execute_result"
    }
   ],
   "source": [
    "stock_price = df[\"Close\"][-1]\n",
    "stock_price"
   ]
  },
  {
   "cell_type": "code",
   "execution_count": 132,
   "id": "46471396",
   "metadata": {},
   "outputs": [
    {
     "data": {
      "text/plain": [
       "0.2856593343640379"
      ]
     },
     "execution_count": 132,
     "metadata": {},
     "output_type": "execute_result"
    }
   ],
   "source": [
    "stock_cagr = pow((df[\"Close\"][-1] / df[\"Close\"][0]), 1/6) - 1\n",
    "stock_cagr"
   ]
  },
  {
   "cell_type": "code",
   "execution_count": 110,
   "id": "2b7e3d15",
   "metadata": {},
   "outputs": [
    {
     "data": {
      "text/plain": [
       "2017"
      ]
     },
     "execution_count": 110,
     "metadata": {},
     "output_type": "execute_result"
    }
   ],
   "source": [
    "# today = date.today()\n",
    "\n",
    "# start_date = today - relativedelta(years = 6)\n",
    "# start_year = start_date.year\n",
    "# start_year"
   ]
  },
  {
   "cell_type": "code",
   "execution_count": 124,
   "id": "e22778ce",
   "metadata": {},
   "outputs": [
    {
     "name": "stderr",
     "output_type": "stream",
     "text": [
      "C:\\Users\\Irochka\\AppData\\Local\\Temp\\ipykernel_18532\\2216258578.py:1: FutureWarning: Indexing a timezone-aware DatetimeIndex with a timezone-naive datetime is deprecated and will raise KeyError in a future version. Use a timezone-aware object instead.\n",
      "  tick_series = yf.Ticker(\"AAPL\").dividends.loc[start_date:end_date]\n"
     ]
    },
    {
     "data": {
      "text/plain": [
       "Date\n",
       "2018-02-09 00:00:00-05:00    0.1575\n",
       "2018-05-11 00:00:00-04:00    0.1825\n",
       "2018-08-10 00:00:00-04:00    0.1825\n",
       "2018-11-08 00:00:00-05:00    0.1825\n",
       "2019-02-08 00:00:00-05:00    0.1825\n",
       "2019-05-10 00:00:00-04:00    0.1925\n",
       "2019-08-09 00:00:00-04:00    0.1925\n",
       "2019-11-07 00:00:00-05:00    0.1925\n",
       "2020-02-07 00:00:00-05:00    0.1925\n",
       "2020-05-08 00:00:00-04:00    0.2050\n",
       "2020-08-07 00:00:00-04:00    0.2050\n",
       "2020-11-06 00:00:00-05:00    0.2050\n",
       "2021-02-05 00:00:00-05:00    0.2050\n",
       "2021-05-07 00:00:00-04:00    0.2200\n",
       "2021-08-06 00:00:00-04:00    0.2200\n",
       "2021-11-05 00:00:00-04:00    0.2200\n",
       "2022-02-04 00:00:00-05:00    0.2200\n",
       "2022-05-06 00:00:00-04:00    0.2300\n",
       "2022-08-05 00:00:00-04:00    0.2300\n",
       "2022-11-04 00:00:00-04:00    0.2300\n",
       "2023-02-10 00:00:00-05:00    0.2300\n",
       "2023-05-12 00:00:00-04:00    0.2400\n",
       "2023-08-11 00:00:00-04:00    0.2400\n",
       "2023-11-10 00:00:00-05:00    0.2400\n",
       "Name: Dividends, dtype: float64"
      ]
     },
     "execution_count": 124,
     "metadata": {},
     "output_type": "execute_result"
    }
   ],
   "source": [
    "tick_series = yf.Ticker(\"AAPL\").dividends.loc[start_date:end_date]\n",
    "tick_series"
   ]
  },
  {
   "cell_type": "code",
   "execution_count": 126,
   "id": "a6194dcb",
   "metadata": {},
   "outputs": [
    {
     "data": {
      "text/plain": [
       "0.087892885777757"
      ]
     },
     "execution_count": 126,
     "metadata": {},
     "output_type": "execute_result"
    }
   ],
   "source": [
    "div_growth = pow((tick_series[-1] / tick_series[0]), 0.2) - 1\n",
    "div_growth"
   ]
  },
  {
   "cell_type": "markdown",
   "id": "21e8f467",
   "metadata": {},
   "source": [
    "## Dividend Stock Calculator Using yfinance "
   ]
  },
  {
   "cell_type": "code",
   "execution_count": 203,
   "id": "43fb89e2",
   "metadata": {},
   "outputs": [],
   "source": [
    "def calculate_dividends(symbol, contribution):\n",
    "    today = date.today()\n",
    "    start_date = str( today - relativedelta(years = 10) )\n",
    "    end_date = str(today)\n",
    "    \n",
    "    \n",
    "    ticker = symbol\n",
    "    df = yf.download(ticker, start_date, end_date)\n",
    "\n",
    "    current_price = df[\"Close\"][-1]\n",
    "    print(f\"Current Price is: {current_price}\")\n",
    "    #div_yield = 0.0267      #as a decimal less than 1\n",
    "    \n",
    "    tick_series = yf.Ticker(symbol).dividends.loc[start_date:end_date]\n",
    "    div_growth_rate = pow((tick_series[-1] / tick_series[0]), 1/10) - 1 \n",
    "    print(f\"Current Div_Growth_Rate is: {div_growth_rate}\")\n",
    "    #div_growth is given as a decimal less than 1  (it is approximately the 5 year cagr)\n",
    "    \n",
    "    share_price_cagr = pow((df[\"Close\"][-1] / df[\"Close\"][0]), 1/10) - 1\n",
    "    print(f\"Current Share_Price_Growth_Rate is: {share_price_cagr}\")\n",
    "    #share_price cagr is given as a decimal less than 1 (it is approximately the 6 year share cagr)\n",
    "    \n",
    "    principal = 50000\n",
    "    \n",
    "    \n",
    "    for i in range(20):\n",
    "        if i == 0:\n",
    "            num_shares = (principal + contribution) / current_price \n",
    "            \n",
    "            #set up an initial dividend amount the company will pay:\n",
    "            div_amt = tick_series[-1] * 4   #since this retrieves the quarerly dividend so multiply by 4\n",
    "            print(f\"Current Dividend Amount is: {div_amt}\")\n",
    "            \n",
    "            \n",
    "            #Then you collect a dividend\n",
    "            your_dividend = num_shares * div_amt\n",
    "            num_shares = num_shares + (your_dividend / current_price)\n",
    "            total_value = num_shares * current_price\n",
    "            print(f\"Your total value for year 0 is: ${total_value}\")\n",
    "            print(f\"Current price for year {i} is: {current_price}\")\n",
    "        else:\n",
    "            current_price = current_price * (1 + share_price_cagr)\n",
    "            div_amt_for_yr = div_amt * pow((1 + div_growth_rate), i)\n",
    "            gained_shares = contribution / current_price\n",
    "            # Then you collect a dividend \n",
    "            your_dividend = (num_shares + gained_shares) * div_amt_for_yr\n",
    "            num_shares = (num_shares + gained_shares) + (your_dividend / current_price)\n",
    "            total_value = num_shares * current_price\n",
    "            print(f\"Your total value for year {i} is: ${total_value}\")\n",
    "            print(f\"Current price for year {i} is: {current_price}\")\n",
    "            print(f\"Current number of shares for year {i} is: {num_shares}\") \n",
    "\n",
    "    \n",
    "    print(f\"Your total contribution was: ${20 * contribution}\")\n",
    "    print(f\"Your total value for {symbol} is: ${total_value}\")\n",
    "    print(f\"Your dividend is: {your_dividend}\")\n"
   ]
  },
  {
   "cell_type": "code",
   "execution_count": 204,
   "id": "bd08cc5c",
   "metadata": {},
   "outputs": [
    {
     "name": "stdout",
     "output_type": "stream",
     "text": [
      "[*********************100%***********************]  1 of 1 completed\n",
      "Current Price is: 45.209999084472656\n",
      "Current Div_Growth_Rate is: 0.13395130443021586\n",
      "Current Share_Price_Growth_Rate is: 0.08593074363722408\n",
      "Current Dividend Amount is: 1.16\n",
      "Your total value for year 0 is: $82052.64326209358\n",
      "Current price for year 0 is: 45.209999084472656\n",
      "Your total value for year 1 is: $122294.58668997526\n",
      "Current price for year 1 is: 49.09492792563961\n",
      "Current number of shares for year 1 is: 2490.9821005380772\n",
      "Your total value for year 2 is: $167358.27600394835\n",
      "Current price for year 2 is: 53.31369159110574\n",
      "Current number of shares for year 2 is: 3139.1237599436568\n",
      "Your total value for year 3 is: $217925.38717866465\n",
      "Current price for year 3 is: 57.89497675557507\n",
      "Current number of shares for year 3 is: 3764.150180053043\n",
      "Your total value for year 4 is: $274786.4972447339\n",
      "Current price for year 4 is: 62.86993516104144\n",
      "Current number of shares for year 4 is: 4370.713864120709\n",
      "Your total value for year 5 is: $338860.4337554484\n",
      "Current price for year 5 is: 68.27239544185379\n",
      "Current number of shares for year 5 is: 4963.3593718569455\n",
      "Your total value for year 6 is: $411217.4166470459\n",
      "Current price for year 6 is: 74.1390931520669\n",
      "Current number of shares for year 6 is: 5546.566584023312\n",
      "Your total value for year 7 is: $493106.8064667766\n",
      "Current price for year 7 is: 80.50992055921344\n",
      "Current number of shares for year 7 is: 6124.795590924802\n",
      "Your total value for year 8 is: $585990.4629637604\n",
      "Current price for year 8 is: 87.42819790304048\n",
      "Current number of shares for year 8 is: 6702.533930913626\n",
      "Your total value for year 9 is: $691582.956018981\n",
      "Current price for year 9 is: 94.94096796371115\n",
      "Current number of shares for year 9 is: 7284.34700901008\n",
      "Your total value for year 10 is: $811900.169853578\n",
      "Current price for year 10 is: 103.09931594247071\n",
      "Current number of shares for year 10 is: 7874.932655291498\n",
      "Your total value for year 11 is: $949318.2182053976\n",
      "Current price for year 11 is: 111.95871682989633\n",
      "Current number of shares for year 11 is: 8479.180943523472\n",
      "Your total value for year 12 is: $1106645.0644689891\n",
      "Current price for year 12 is: 121.57941262375871\n",
      "Current number of shares for year 12 is: 9102.24058980798\n",
      "Your total value for year 13 is: $1287207.8449416996\n",
      "Current price for year 13 is: 132.02682196149522\n",
      "Current number of shares for year 13 is: 9749.593497881102\n",
      "Your total value for year 14 is: $1494959.6622014942\n",
      "Current price for year 14 is: 143.3719849527059\n",
      "Current number of shares for year 14 is: 10427.139323589865\n",
      "Your total value for year 15 is: $1734610.5975514748\n",
      "Current price for year 15 is: 155.69204623643682\n",
      "Current number of shares for year 15 is: 11141.292310573548\n",
      "Your total value for year 16 is: $2011788.949845345\n",
      "Current price for year 16 is: 169.0707795479349\n",
      "Current number of shares for year 16 is: 11899.093120789468\n",
      "Your total value for year 17 is: $2333240.3265238698\n",
      "Current price for year 17 is: 183.59915736181412\n",
      "Current number of shares for year 17 is: 12708.33897089088\n",
      "Your total value for year 18 is: $2707074.302107836\n",
      "Current price for year 18 is: 199.37596948508252\n",
      "Current number of shares for year 18 is: 13577.736118847472\n",
      "Your total value for year 19 is: $3143071.066924081\n",
      "Current price for year 19 is: 216.50849480632817\n",
      "Current number of shares for year 19 is: 14517.079663482167\n",
      "Your total contribution was: $600000\n",
      "Your total value for KR is: $3143071.066924081\n",
      "Your dividend is: 173375.85695489924\n"
     ]
    }
   ],
   "source": [
    "calculate_dividends(\"KR\", 30000)"
   ]
  },
  {
   "cell_type": "code",
   "execution_count": 212,
   "id": "568cf5bf",
   "metadata": {},
   "outputs": [],
   "source": [
    "# today = date.today()\n",
    "\n",
    "# start_date = str( today - relativedelta(years = 10) )\n",
    "# start_date"
   ]
  },
  {
   "cell_type": "code",
   "execution_count": 211,
   "id": "e3fb777e",
   "metadata": {},
   "outputs": [],
   "source": [
    "# end_date = str(today)\n",
    "# end_date"
   ]
  },
  {
   "cell_type": "code",
   "execution_count": 210,
   "id": "ff7acba4",
   "metadata": {},
   "outputs": [],
   "source": [
    "# tick_series = yf.Ticker(\"KR\").dividends.loc[start_date:end_date]\n",
    "# tick_series"
   ]
  },
  {
   "cell_type": "code",
   "execution_count": 209,
   "id": "8222cb1b",
   "metadata": {},
   "outputs": [],
   "source": [
    "# ticker = yf.Ticker(\"KR\")\n",
    "# dir(ticker)"
   ]
  },
  {
   "cell_type": "code",
   "execution_count": 213,
   "id": "a95889fb",
   "metadata": {},
   "outputs": [],
   "source": [
    "# ticker.dividends[-1] * 4"
   ]
  },
  {
   "cell_type": "code",
   "execution_count": 214,
   "id": "08dbb131",
   "metadata": {},
   "outputs": [],
   "source": [
    "# calculate_dividends(\"INTC\", 30000)"
   ]
  },
  {
   "cell_type": "code",
   "execution_count": null,
   "id": "3dd26e7b",
   "metadata": {},
   "outputs": [],
   "source": []
  }
 ],
 "metadata": {
  "kernelspec": {
   "display_name": "Python 3 (ipykernel)",
   "language": "python",
   "name": "python3"
  },
  "language_info": {
   "codemirror_mode": {
    "name": "ipython",
    "version": 3
   },
   "file_extension": ".py",
   "mimetype": "text/x-python",
   "name": "python",
   "nbconvert_exporter": "python",
   "pygments_lexer": "ipython3",
   "version": "3.10.9"
  }
 },
 "nbformat": 4,
 "nbformat_minor": 5
}
